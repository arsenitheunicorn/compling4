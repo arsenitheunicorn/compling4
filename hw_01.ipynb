{
 "cells": [
  {
   "cell_type": "markdown",
   "metadata": {
    "colab_type": "text",
    "id": "nzfD_Wk1ZN6L"
   },
   "source": [
    "# Домашнее задание №1\n",
    "\n",
    "### **Dataset of depressive posts in Russian language collected from social media** [(paper)](https://www.sciencedirect.com/science/article/pii/S2352340920300895)\n",
    "\n",
    "Скачать датасет в формате .tsv можно [здесь](https://yadi.sk/d/G5rq-R3AK8SOuw).\n",
    "\n",
    "\n",
    "В качестве задания предлагается:\n",
    "1. Использовать ```pandas``` и ряд инструментов для автоматической обработки текстов на русском языке, чтобы ответить на вопросы.\n",
    "2. Написать функции для извлечения текстовых признаков.\n",
    "\n",
    "Не рекомендуется использовать ```nltk``` для сегментации/токенизации текстов, поскольку существуют инструменты, которые выполняют свою задачу для русского значительно лучше – их мы обсуждали с вами на занятии.\n",
    "\n",
    "\n",
    "**Дедлайн**: 23 сентября 23:59"
   ]
  },
  {
   "cell_type": "code",
   "execution_count": 1,
   "metadata": {
    "colab": {
     "base_uri": "https://localhost:8080/",
     "height": 197
    },
    "colab_type": "code",
    "id": "9tsSaFBdgu1B",
    "outputId": "ab4f6872-15f1-4257-d370-0903ab9fc978"
   },
   "outputs": [
    {
     "data": {
      "text/html": [
       "<div>\n",
       "<style scoped>\n",
       "    .dataframe tbody tr th:only-of-type {\n",
       "        vertical-align: middle;\n",
       "    }\n",
       "\n",
       "    .dataframe tbody tr th {\n",
       "        vertical-align: top;\n",
       "    }\n",
       "\n",
       "    .dataframe thead th {\n",
       "        text-align: right;\n",
       "    }\n",
       "</style>\n",
       "<table border=\"1\" class=\"dataframe\">\n",
       "  <thead>\n",
       "    <tr style=\"text-align: right;\">\n",
       "      <th></th>\n",
       "      <th>text</th>\n",
       "      <th>label</th>\n",
       "      <th>age</th>\n",
       "    </tr>\n",
       "  </thead>\n",
       "  <tbody>\n",
       "    <tr>\n",
       "      <th>0</th>\n",
       "      <td>Когда-то я был добрым романтиком, который стре...</td>\n",
       "      <td>1</td>\n",
       "      <td>32.0</td>\n",
       "    </tr>\n",
       "    <tr>\n",
       "      <th>1</th>\n",
       "      <td>Здраствуйте! Я каждый день просыпаюсь с мыслью...</td>\n",
       "      <td>1</td>\n",
       "      <td>28.0</td>\n",
       "    </tr>\n",
       "    <tr>\n",
       "      <th>2</th>\n",
       "      <td>У меня проблемы с девушкой. Каждую ссору я не ...</td>\n",
       "      <td>1</td>\n",
       "      <td>16.0</td>\n",
       "    </tr>\n",
       "    <tr>\n",
       "      <th>3</th>\n",
       "      <td>Вся моя жизнь это один сплошной ад, в котором ...</td>\n",
       "      <td>1</td>\n",
       "      <td>32.0</td>\n",
       "    </tr>\n",
       "    <tr>\n",
       "      <th>4</th>\n",
       "      <td>Я хочу уснуть и не проснуться.каждый день одно...</td>\n",
       "      <td>1</td>\n",
       "      <td>14.0</td>\n",
       "    </tr>\n",
       "  </tbody>\n",
       "</table>\n",
       "</div>"
      ],
      "text/plain": [
       "                                                text  label   age\n",
       "0  Когда-то я был добрым романтиком, который стре...      1  32.0\n",
       "1  Здраствуйте! Я каждый день просыпаюсь с мыслью...      1  28.0\n",
       "2  У меня проблемы с девушкой. Каждую ссору я не ...      1  16.0\n",
       "3  Вся моя жизнь это один сплошной ад, в котором ...      1  32.0\n",
       "4  Я хочу уснуть и не проснуться.каждый день одно...      1  14.0"
      ]
     },
     "execution_count": 1,
     "metadata": {},
     "output_type": "execute_result"
    }
   ],
   "source": [
    "import pandas as pd\n",
    "\n",
    "\n",
    "df = pd.read_csv(\"depression_data.tsv\", sep=\"\\t\")\n",
    "df.head()"
   ]
  },
  {
   "cell_type": "markdown",
   "metadata": {
    "colab_type": "text",
    "id": "jgwa7XyGfuCI"
   },
   "source": [
    "### Часть 1: Простая статистика (2 балла)"
   ]
  },
  {
   "cell_type": "markdown",
   "metadata": {
    "colab_type": "text",
    "id": "YP1iOWbjh2zw"
   },
   "source": [
    "Зачастую в данных, с которыми вы работаете, может быть много неприятных для обработки вещей. Например, мы видим, что в колонке ```age``` очень грязные значения."
   ]
  },
  {
   "cell_type": "code",
   "execution_count": 6,
   "metadata": {
    "colab": {
     "base_uri": "https://localhost:8080/",
     "height": 244
    },
    "colab_type": "code",
    "id": "uDW6JMhwZuS8",
    "outputId": "5c8f2a9e-2d21-4b1d-9187-e3bc0eaa5db5"
   },
   "outputs": [
    {
     "data": {
      "text/plain": [
       "16.0      1823\n",
       "17.0      1811\n",
       "18.0      1661\n",
       "15.0      1582\n",
       "20.0      1543\n",
       "          ... \n",
       "116.0        1\n",
       "295.0        1\n",
       "2425.0       1\n",
       "92.0         1\n",
       "830.0        1\n",
       "Name: age, Length: 128, dtype: int64"
      ]
     },
     "execution_count": 6,
     "metadata": {},
     "output_type": "execute_result"
    }
   ],
   "source": [
    "df_valueCounts = df[\"age\"].value_counts()\n",
    "df_valueCounts"
   ]
  },
  {
   "cell_type": "markdown",
   "metadata": {
    "colab_type": "text",
    "id": "5SqrBy6iloMd"
   },
   "source": [
    "1. Найдите среднее значение возраста в диапазоне от 14 до 50 лет включительно."
   ]
  },
  {
   "cell_type": "code",
   "execution_count": 5,
   "metadata": {
    "colab": {},
    "colab_type": "code",
    "id": "6AbzQhkakRfc"
   },
   "outputs": [
    {
     "data": {
      "text/plain": [
       "22.704171601526518"
      ]
     },
     "execution_count": 5,
     "metadata": {},
     "output_type": "execute_result"
    }
   ],
   "source": [
    "df[(df.age >= 14) & (df[\"age\"] <= 50)][\"age\"].mean()"
   ]
  },
  {
   "cell_type": "markdown",
   "metadata": {
    "colab_type": "text",
    "id": "Pw5gpMkDk4R6"
   },
   "source": [
    "2. Какую долю 16-летние авторы составляют в диапазоне от 16 до 26 лет включительно?"
   ]
  },
  {
   "cell_type": "code",
   "execution_count": 13,
   "metadata": {
    "colab": {},
    "colab_type": "code",
    "id": "qXejPDLZj3eX"
   },
   "outputs": [
    {
     "data": {
      "text/plain": [
       "0.1259412780656304"
      ]
     },
     "execution_count": 13,
     "metadata": {},
     "output_type": "execute_result"
    }
   ],
   "source": [
    "df_valueCounts[16] / sum([df_valueCounts[x] for x in range(16, 27)])"
   ]
  },
  {
   "cell_type": "markdown",
   "metadata": {
    "colab_type": "text",
    "id": "vGinA-Swjvlc"
   },
   "source": [
    "3. Сколько в датасете текстов, авторам которых 28 или 30 лет?"
   ]
  },
  {
   "cell_type": "code",
   "execution_count": 14,
   "metadata": {
    "colab": {},
    "colab_type": "code",
    "id": "QNz0sLmjYLxr"
   },
   "outputs": [
    {
     "data": {
      "text/plain": [
       "1185"
      ]
     },
     "execution_count": 14,
     "metadata": {},
     "output_type": "execute_result"
    }
   ],
   "source": [
    "df_valueCounts[28] + df_valueCounts[30]"
   ]
  },
  {
   "cell_type": "markdown",
   "metadata": {
    "colab_type": "text",
    "id": "WIiciL_BnJzl"
   },
   "source": [
    "4. С помощью одной встроенной в ```pandas``` функции отобразите всю статистику по колонке ```age``` в диапазоне от 18 до 30 лет включительно."
   ]
  },
  {
   "cell_type": "code",
   "execution_count": 15,
   "metadata": {
    "colab": {},
    "colab_type": "code",
    "id": "q2cC4Sxanka6"
   },
   "outputs": [
    {
     "data": {
      "text/plain": [
       "count    13205.000000\n",
       "mean        22.676638\n",
       "std          3.550254\n",
       "min         18.000000\n",
       "25%         20.000000\n",
       "50%         22.000000\n",
       "75%         25.000000\n",
       "max         30.000000\n",
       "Name: age, dtype: float64"
      ]
     },
     "execution_count": 15,
     "metadata": {},
     "output_type": "execute_result"
    }
   ],
   "source": [
    "df[(df.age >= 18) & (df[\"age\"] <= 30)][\"age\"].describe()"
   ]
  },
  {
   "cell_type": "markdown",
   "metadata": {
    "colab_type": "text",
    "id": "CT99FXGjoGs1"
   },
   "source": [
    "5. Сколько в датасете положительных / отрицательных примеров?"
   ]
  },
  {
   "cell_type": "code",
   "execution_count": 17,
   "metadata": {
    "colab": {},
    "colab_type": "code",
    "id": "j-nelLWJoMpT"
   },
   "outputs": [
    {
     "data": {
      "text/plain": [
       "0    32021\n",
       "1    32018\n",
       "Name: label, dtype: int64"
      ]
     },
     "execution_count": 17,
     "metadata": {},
     "output_type": "execute_result"
    }
   ],
   "source": [
    "df[\"label\"].value_counts()"
   ]
  },
  {
   "cell_type": "markdown",
   "metadata": {
    "colab_type": "text",
    "id": "QHldQF5FoAyB"
   },
   "source": [
    "### Часть 2: Предобработка (3 балла)"
   ]
  },
  {
   "cell_type": "markdown",
   "metadata": {
    "colab_type": "text",
    "id": "Mc1d4G-q671X"
   },
   "source": [
    "1. Посчитайте количество предложений в каждом тексте. Сохраните эти значения в отдельной колонке датафрейма."
   ]
  },
  {
   "cell_type": "code",
   "execution_count": 2,
   "metadata": {},
   "outputs": [],
   "source": [
    "import razdel"
   ]
  },
  {
   "cell_type": "code",
   "execution_count": 23,
   "metadata": {},
   "outputs": [],
   "source": [
    "df['sent_count'] = [len(list(razdel.sentenize(row['text']))) for index, row in df.iterrows()]"
   ]
  },
  {
   "cell_type": "code",
   "execution_count": 25,
   "metadata": {},
   "outputs": [
    {
     "data": {
      "text/html": [
       "<div>\n",
       "<style scoped>\n",
       "    .dataframe tbody tr th:only-of-type {\n",
       "        vertical-align: middle;\n",
       "    }\n",
       "\n",
       "    .dataframe tbody tr th {\n",
       "        vertical-align: top;\n",
       "    }\n",
       "\n",
       "    .dataframe thead th {\n",
       "        text-align: right;\n",
       "    }\n",
       "</style>\n",
       "<table border=\"1\" class=\"dataframe\">\n",
       "  <thead>\n",
       "    <tr style=\"text-align: right;\">\n",
       "      <th></th>\n",
       "      <th>text</th>\n",
       "      <th>label</th>\n",
       "      <th>age</th>\n",
       "      <th>sent_count</th>\n",
       "    </tr>\n",
       "  </thead>\n",
       "  <tbody>\n",
       "    <tr>\n",
       "      <th>0</th>\n",
       "      <td>Когда-то я был добрым романтиком, который стре...</td>\n",
       "      <td>1</td>\n",
       "      <td>32.0</td>\n",
       "      <td>15</td>\n",
       "    </tr>\n",
       "    <tr>\n",
       "      <th>1</th>\n",
       "      <td>Здраствуйте! Я каждый день просыпаюсь с мыслью...</td>\n",
       "      <td>1</td>\n",
       "      <td>28.0</td>\n",
       "      <td>6</td>\n",
       "    </tr>\n",
       "    <tr>\n",
       "      <th>2</th>\n",
       "      <td>У меня проблемы с девушкой. Каждую ссору я не ...</td>\n",
       "      <td>1</td>\n",
       "      <td>16.0</td>\n",
       "      <td>10</td>\n",
       "    </tr>\n",
       "    <tr>\n",
       "      <th>3</th>\n",
       "      <td>Вся моя жизнь это один сплошной ад, в котором ...</td>\n",
       "      <td>1</td>\n",
       "      <td>32.0</td>\n",
       "      <td>5</td>\n",
       "    </tr>\n",
       "    <tr>\n",
       "      <th>4</th>\n",
       "      <td>Я хочу уснуть и не проснуться.каждый день одно...</td>\n",
       "      <td>1</td>\n",
       "      <td>14.0</td>\n",
       "      <td>18</td>\n",
       "    </tr>\n",
       "  </tbody>\n",
       "</table>\n",
       "</div>"
      ],
      "text/plain": [
       "                                                text  label   age  sent_count\n",
       "0  Когда-то я был добрым романтиком, который стре...      1  32.0          15\n",
       "1  Здраствуйте! Я каждый день просыпаюсь с мыслью...      1  28.0           6\n",
       "2  У меня проблемы с девушкой. Каждую ссору я не ...      1  16.0          10\n",
       "3  Вся моя жизнь это один сплошной ад, в котором ...      1  32.0           5\n",
       "4  Я хочу уснуть и не проснуться.каждый день одно...      1  14.0          18"
      ]
     },
     "execution_count": 25,
     "metadata": {},
     "output_type": "execute_result"
    }
   ],
   "source": [
    "df.head()"
   ]
  },
  {
   "cell_type": "markdown",
   "metadata": {
    "colab_type": "text",
    "id": "NX7FxEafFTiy"
   },
   "source": [
    "2. Напишите функцию для токенизации текста. Удалите стоп-слова."
   ]
  },
  {
   "cell_type": "code",
   "execution_count": 3,
   "metadata": {},
   "outputs": [],
   "source": [
    "import nltk\n",
    "#nltk.download(\"stopwords\")\n",
    "\n",
    "from nltk.corpus import stopwords"
   ]
  },
  {
   "cell_type": "code",
   "execution_count": 42,
   "metadata": {
    "colab": {},
    "colab_type": "code",
    "id": "Y1S782xBFlIi"
   },
   "outputs": [],
   "source": [
    "def textTokenizer(text, russian_stopwords=russian_stopwords):\n",
    "    tokens = list(razdel.tokenize(text))\n",
    "    return [_.text.lower() for _ in tokens if _.text.lower() not in russian_stopwords and len(_.text) > 1 and _.text != '...']"
   ]
  },
  {
   "cell_type": "code",
   "execution_count": 25,
   "metadata": {},
   "outputs": [],
   "source": [
    "russian_stopwords = stopwords.words(\"russian\")"
   ]
  },
  {
   "cell_type": "code",
   "execution_count": 19,
   "metadata": {},
   "outputs": [
    {
     "data": {
      "text/plain": [
       "[Substring(0, 12, 'Здравтсвуйте'),\n",
       " Substring(12, 13, '!'),\n",
       " Substring(14, 15, 'Я'),\n",
       " Substring(16, 20, 'пишу'),\n",
       " Substring(21, 24, 'вам'),\n",
       " Substring(25, 28, 'вот'),\n",
       " Substring(29, 31, 'по'),\n",
       " Substring(32, 38, 'какому'),\n",
       " Substring(39, 45, 'поводу'),\n",
       " Substring(45, 46, ':'),\n",
       " Substring(47, 50, 'ваш'),\n",
       " Substring(51, 57, 'сраный'),\n",
       " Substring(58, 68, 'токенайзер'),\n",
       " Substring(69, 71, 'не'),\n",
       " Substring(72, 80, 'работает')]"
      ]
     },
     "execution_count": 19,
     "metadata": {},
     "output_type": "execute_result"
    }
   ],
   "source": [
    "list(razdel.tokenize(\"Здравтсвуйте! Я пишу вам вот по какому поводу: ваш сраный токенайзер не работает\"))"
   ]
  },
  {
   "cell_type": "code",
   "execution_count": 35,
   "metadata": {},
   "outputs": [
    {
     "data": {
      "text/plain": [
       "['пишу', 'какому', 'поводу', 'ваш', 'сраный', 'токенайзер', 'работает']"
      ]
     },
     "execution_count": 35,
     "metadata": {},
     "output_type": "execute_result"
    }
   ],
   "source": [
    "textTokenizer(\"Здравствуйте! Я пишу вам вот по какому поводу: ваш сраный токенайзер не работает\")"
   ]
  },
  {
   "cell_type": "code",
   "execution_count": 16,
   "metadata": {},
   "outputs": [
    {
     "data": {
      "text/plain": [
       "True"
      ]
     },
     "execution_count": 16,
     "metadata": {},
     "output_type": "execute_result"
    }
   ],
   "source": [
    "'я' in russian_stopwords"
   ]
  },
  {
   "cell_type": "markdown",
   "metadata": {
    "colab_type": "text",
    "id": "HVq8if4s8q_1"
   },
   "source": [
    "3. Посчитайте количество токенов в тексте (без стоп-слов). Найдите среднее этих значений как по всей выборке, так и внутри каждого класса. "
   ]
  },
  {
   "cell_type": "code",
   "execution_count": 5,
   "metadata": {},
   "outputs": [],
   "source": [
    "import logging\n",
    "logging.basicConfig(level=logging.INFO)"
   ]
  },
  {
   "cell_type": "code",
   "execution_count": 41,
   "metadata": {
    "scrolled": true
   },
   "outputs": [
    {
     "name": "stderr",
     "output_type": "stream",
     "text": [
      "INFO:root:0 out of 64039 done\n",
      "INFO:root:500 out of 64039 done\n",
      "INFO:root:1000 out of 64039 done\n",
      "INFO:root:1500 out of 64039 done\n",
      "INFO:root:2000 out of 64039 done\n",
      "INFO:root:2500 out of 64039 done\n",
      "INFO:root:3000 out of 64039 done\n",
      "INFO:root:3500 out of 64039 done\n",
      "INFO:root:4000 out of 64039 done\n",
      "INFO:root:4500 out of 64039 done\n",
      "INFO:root:5000 out of 64039 done\n",
      "INFO:root:5500 out of 64039 done\n",
      "INFO:root:6000 out of 64039 done\n",
      "INFO:root:6500 out of 64039 done\n",
      "INFO:root:7000 out of 64039 done\n",
      "INFO:root:7500 out of 64039 done\n",
      "INFO:root:8000 out of 64039 done\n",
      "INFO:root:8500 out of 64039 done\n",
      "INFO:root:9000 out of 64039 done\n",
      "INFO:root:9500 out of 64039 done\n",
      "INFO:root:10000 out of 64039 done\n",
      "INFO:root:10500 out of 64039 done\n",
      "INFO:root:11000 out of 64039 done\n",
      "INFO:root:11500 out of 64039 done\n",
      "INFO:root:12000 out of 64039 done\n",
      "INFO:root:12500 out of 64039 done\n",
      "INFO:root:13000 out of 64039 done\n",
      "INFO:root:13500 out of 64039 done\n",
      "INFO:root:14000 out of 64039 done\n",
      "INFO:root:14500 out of 64039 done\n",
      "INFO:root:15000 out of 64039 done\n",
      "INFO:root:15500 out of 64039 done\n",
      "INFO:root:16000 out of 64039 done\n",
      "INFO:root:16500 out of 64039 done\n",
      "INFO:root:17000 out of 64039 done\n",
      "INFO:root:17500 out of 64039 done\n",
      "INFO:root:18000 out of 64039 done\n",
      "INFO:root:18500 out of 64039 done\n",
      "INFO:root:19000 out of 64039 done\n",
      "INFO:root:19500 out of 64039 done\n",
      "INFO:root:20000 out of 64039 done\n",
      "INFO:root:20500 out of 64039 done\n",
      "INFO:root:21000 out of 64039 done\n",
      "INFO:root:21500 out of 64039 done\n",
      "INFO:root:22000 out of 64039 done\n",
      "INFO:root:22500 out of 64039 done\n",
      "INFO:root:23000 out of 64039 done\n",
      "INFO:root:23500 out of 64039 done\n",
      "INFO:root:24000 out of 64039 done\n",
      "INFO:root:24500 out of 64039 done\n",
      "INFO:root:25000 out of 64039 done\n",
      "INFO:root:25500 out of 64039 done\n",
      "INFO:root:26000 out of 64039 done\n",
      "INFO:root:26500 out of 64039 done\n",
      "INFO:root:27000 out of 64039 done\n",
      "INFO:root:27500 out of 64039 done\n",
      "INFO:root:28000 out of 64039 done\n",
      "INFO:root:28500 out of 64039 done\n",
      "INFO:root:29000 out of 64039 done\n",
      "INFO:root:29500 out of 64039 done\n",
      "INFO:root:30000 out of 64039 done\n",
      "INFO:root:30500 out of 64039 done\n",
      "INFO:root:31000 out of 64039 done\n",
      "INFO:root:31500 out of 64039 done\n",
      "INFO:root:32000 out of 64039 done\n",
      "INFO:root:32500 out of 64039 done\n",
      "INFO:root:33000 out of 64039 done\n",
      "INFO:root:33500 out of 64039 done\n",
      "INFO:root:34000 out of 64039 done\n",
      "INFO:root:34500 out of 64039 done\n",
      "INFO:root:35000 out of 64039 done\n",
      "INFO:root:35500 out of 64039 done\n",
      "INFO:root:36000 out of 64039 done\n",
      "INFO:root:36500 out of 64039 done\n",
      "INFO:root:37000 out of 64039 done\n",
      "INFO:root:37500 out of 64039 done\n",
      "INFO:root:38000 out of 64039 done\n",
      "INFO:root:38500 out of 64039 done\n",
      "INFO:root:39000 out of 64039 done\n",
      "INFO:root:39500 out of 64039 done\n",
      "INFO:root:40000 out of 64039 done\n",
      "INFO:root:40500 out of 64039 done\n",
      "INFO:root:41000 out of 64039 done\n",
      "INFO:root:41500 out of 64039 done\n",
      "INFO:root:42000 out of 64039 done\n",
      "INFO:root:42500 out of 64039 done\n",
      "INFO:root:43000 out of 64039 done\n",
      "INFO:root:43500 out of 64039 done\n",
      "INFO:root:44000 out of 64039 done\n",
      "INFO:root:44500 out of 64039 done\n",
      "INFO:root:45000 out of 64039 done\n",
      "INFO:root:45500 out of 64039 done\n",
      "INFO:root:46000 out of 64039 done\n",
      "INFO:root:46500 out of 64039 done\n",
      "INFO:root:47000 out of 64039 done\n",
      "INFO:root:47500 out of 64039 done\n",
      "INFO:root:48000 out of 64039 done\n",
      "INFO:root:48500 out of 64039 done\n",
      "INFO:root:49000 out of 64039 done\n",
      "INFO:root:49500 out of 64039 done\n",
      "INFO:root:50000 out of 64039 done\n",
      "INFO:root:50500 out of 64039 done\n",
      "INFO:root:51000 out of 64039 done\n",
      "INFO:root:51500 out of 64039 done\n",
      "INFO:root:52000 out of 64039 done\n",
      "INFO:root:52500 out of 64039 done\n",
      "INFO:root:53000 out of 64039 done\n",
      "INFO:root:53500 out of 64039 done\n",
      "INFO:root:54000 out of 64039 done\n",
      "INFO:root:54500 out of 64039 done\n",
      "INFO:root:55000 out of 64039 done\n",
      "INFO:root:55500 out of 64039 done\n",
      "INFO:root:56000 out of 64039 done\n",
      "INFO:root:56500 out of 64039 done\n",
      "INFO:root:57000 out of 64039 done\n",
      "INFO:root:57500 out of 64039 done\n",
      "INFO:root:58000 out of 64039 done\n",
      "INFO:root:58500 out of 64039 done\n",
      "INFO:root:59000 out of 64039 done\n",
      "INFO:root:59500 out of 64039 done\n",
      "INFO:root:60000 out of 64039 done\n",
      "INFO:root:60500 out of 64039 done\n",
      "INFO:root:61000 out of 64039 done\n",
      "INFO:root:61500 out of 64039 done\n",
      "INFO:root:62000 out of 64039 done\n",
      "INFO:root:62500 out of 64039 done\n",
      "INFO:root:63000 out of 64039 done\n",
      "INFO:root:63500 out of 64039 done\n",
      "INFO:root:64000 out of 64039 done\n"
     ]
    }
   ],
   "source": [
    "N = df.shape[0]\n",
    "token_count = []\n",
    "\n",
    "for index, row in df.iterrows():\n",
    "    token_count.append(len(textTokenizer(row['text'])))\n",
    "    if index % 500 == 0:\n",
    "        logging.info('%d out of %d done' % (index, N))\n",
    "\n",
    "df['token_count'] = token_count"
   ]
  },
  {
   "cell_type": "code",
   "execution_count": 42,
   "metadata": {},
   "outputs": [
    {
     "name": "stdout",
     "output_type": "stream",
     "text": [
      "label_mean:\t110\n",
      "label_0:\t145\n",
      "label_1:\t75\n"
     ]
    }
   ],
   "source": [
    "tokenMean = df['token_count'].mean()\n",
    "tokenMean0 = df[df.label == 0]['token_count'].mean()\n",
    "tokenMean1 = df[df.label == 1]['token_count'].mean()\n",
    "\n",
    "print('label_mean:\\t%d\\nlabel_0:\\t%d\\nlabel_1:\\t%d' % (tokenMean, tokenMean0, tokenMean1))"
   ]
  },
  {
   "cell_type": "markdown",
   "metadata": {
    "colab_type": "text",
    "id": "xXsyP9NHG-gO"
   },
   "source": [
    "4. Напишите функцию, которая переводит текст в последовательность лемм."
   ]
  },
  {
   "cell_type": "code",
   "execution_count": 43,
   "metadata": {
    "scrolled": true
   },
   "outputs": [
    {
     "name": "stderr",
     "output_type": "stream",
     "text": [
      "C:\\users\\admin\\anaconda3\\lib\\site-packages\\tqdm\\std.py:658: FutureWarning: The Panel class is removed from pandas. Accessing it from the top-level namespace will also be removed in the next version\n",
      "  from pandas import Panel\n"
     ]
    }
   ],
   "source": [
    "from tqdm.auto import tqdm\n",
    "tqdm.pandas()"
   ]
  },
  {
   "cell_type": "code",
   "execution_count": 6,
   "metadata": {},
   "outputs": [
    {
     "name": "stderr",
     "output_type": "stream",
     "text": [
      "INFO:pymorphy2.opencorpora_dict.wrapper:Loading dictionaries from C:\\users\\admin\\anaconda3\\lib\\site-packages\\pymorphy2_dicts\\data\n",
      "INFO:pymorphy2.opencorpora_dict.wrapper:format: 2.4, revision: 393442, updated: 2015-01-17T16:03:56.586168\n"
     ]
    }
   ],
   "source": [
    "import pymorphy2\n",
    "morph = pymorphy2.MorphAnalyzer()"
   ]
  },
  {
   "cell_type": "code",
   "execution_count": 45,
   "metadata": {
    "colab": {},
    "colab_type": "code",
    "id": "n1o_Rh2iHDmH"
   },
   "outputs": [],
   "source": [
    "def textLemmatizer(text, isText=False, morph=morph):\n",
    "    tokens = textTokenizer(text)\n",
    "    lemmas = [morph.parse(word)[0].normal_form for word in tokens]\n",
    "    if isText:\n",
    "        return ' '.join(lemmas)\n",
    "    else:\n",
    "        return lemmas"
   ]
  },
  {
   "cell_type": "markdown",
   "metadata": {
    "colab_type": "text",
    "id": "D5kyEWTZ98r3"
   },
   "source": [
    "5. Напишите функцию, которая переводит текст в последовательность частеречных тегов."
   ]
  },
  {
   "cell_type": "code",
   "execution_count": 53,
   "metadata": {
    "colab": {},
    "colab_type": "code",
    "id": "83EABAwH756M"
   },
   "outputs": [],
   "source": [
    "def textPOStagger(text, isText=False, morph=morph):\n",
    "    tokens = textTokenizer(text)\n",
    "    tags = [morph.parse(word)[0].tag.POS for word in tokens]\n",
    "    if isText:\n",
    "        return ' '.join(tags)\n",
    "    else:\n",
    "        return tags"
   ]
  },
  {
   "cell_type": "markdown",
   "metadata": {
    "colab_type": "text",
    "id": "d7VAjC4VHSyi"
   },
   "source": [
    "6. Какие слова мы можем добавить в список стоп-слов? Приведите примеры и объясните, почему."
   ]
  },
  {
   "cell_type": "markdown",
   "metadata": {
    "colab": {},
    "colab_type": "code",
    "id": "bElLevUU-x7m"
   },
   "source": [
    "Слова приветствий: _здравствуйте, привет_. Как будет видно ниже, из 400 первых комментариев почти каждый четвертый содержит эти слова."
   ]
  },
  {
   "cell_type": "code",
   "execution_count": 8,
   "metadata": {},
   "outputs": [
    {
     "name": "stdout",
     "output_type": "stream",
     "text": [
      "здравствуй(те): 81\n",
      "привет: 17\n"
     ]
    }
   ],
   "source": [
    "import re\n",
    "\n",
    "with open('depression_data.tsv', 'r', encoding='utf-8') as f:\n",
    "    sampletext = '\\n'.join(f.read().split('\\n')[:400])\n",
    "    print('здравствуй(те): ' + str(len(re.findall('[Зз]дравствуй', sampletext))))\n",
    "    print('привет: ' + str(len(re.findall('[Пп]ривет[^а-яА-Я]', sampletext))))"
   ]
  },
  {
   "cell_type": "markdown",
   "metadata": {},
   "source": [
    "Происходит это потому, что люди в отзывах по какой-то причине считают необходимым здороваться с будущим читателем."
   ]
  },
  {
   "cell_type": "code",
   "execution_count": 32,
   "metadata": {},
   "outputs": [],
   "source": [
    "russian_stopwords.append(\"привет\")\n",
    "russian_stopwords.append(\"здравствуй\")\n",
    "russian_stopwords.append(\"здравствуйте\")"
   ]
  },
  {
   "cell_type": "markdown",
   "metadata": {},
   "source": [
    "Также, задание 6 части 4 показало, что надо убирать часто встречающиеся элементы названий сайтов: домены, протоколы и т.д."
   ]
  },
  {
   "cell_type": "code",
   "execution_count": 38,
   "metadata": {},
   "outputs": [],
   "source": [
    "russian_stopwords.append('vk')\n",
    "russian_stopwords.append('http')\n",
    "russian_stopwords.append('https')\n",
    "russian_stopwords.append('ru')\n",
    "russian_stopwords.append('com')\n",
    "russian_stopwords.append('org')"
   ]
  },
  {
   "cell_type": "markdown",
   "metadata": {
    "colab_type": "text",
    "id": "vcLlYOZfIWRX"
   },
   "source": [
    "### Часть 3: Визуализация (1 балл)"
   ]
  },
  {
   "cell_type": "code",
   "execution_count": 54,
   "metadata": {
    "colab": {},
    "colab_type": "code",
    "id": "CUgLhfWoIvKa"
   },
   "outputs": [],
   "source": [
    "import matplotlib.pyplot as plt"
   ]
  },
  {
   "cell_type": "markdown",
   "metadata": {
    "colab_type": "text",
    "id": "b9s_mHYIoOjg"
   },
   "source": [
    "1. Визуализируйте распределение количество предложений / текст."
   ]
  },
  {
   "cell_type": "code",
   "execution_count": 80,
   "metadata": {},
   "outputs": [
    {
     "data": {
      "text/plain": [
       "<matplotlib.axes._subplots.AxesSubplot at 0x27bc0bb1888>"
      ]
     },
     "execution_count": 80,
     "metadata": {},
     "output_type": "execute_result"
    },
    {
     "data": {
      "image/png": "[encoded data removed]",
      "text/plain": [
       "<Figure size 432x288 with 1 Axes>"
      ]
     },
     "metadata": {
      "needs_background": "light"
     },
     "output_type": "display_data"
    }
   ],
   "source": [
    "toPlot1 = df[\"sent_count\"].value_counts().sort_index()\n",
    "toPlot1.plot(kind='line')"
   ]
  },
  {
   "cell_type": "code",
   "execution_count": 81,
   "metadata": {},
   "outputs": [
    {
     "data": {
      "text/plain": [
       "<matplotlib.axes._subplots.AxesSubplot at 0x27bc0b31748>"
      ]
     },
     "execution_count": 81,
     "metadata": {},
     "output_type": "execute_result"
    },
    {
     "data": {
      "image/png": "[encoded data removed]",
      "text/plain": [
       "<Figure size 432x288 with 1 Axes>"
      ]
     },
     "metadata": {
      "needs_background": "light"
     },
     "output_type": "display_data"
    }
   ],
   "source": [
    "toPlot1.plot(kind='line', logy=True)"
   ]
  },
  {
   "cell_type": "code",
   "execution_count": 85,
   "metadata": {},
   "outputs": [
    {
     "data": {
      "text/plain": [
       "<matplotlib.axes._subplots.AxesSubplot at 0x27bc0eba648>"
      ]
     },
     "execution_count": 85,
     "metadata": {},
     "output_type": "execute_result"
    },
    {
     "data": {
      "image/png": "[encoded data removed]",
      "text/plain": [
       "<Figure size 432x288 with 1 Axes>"
      ]
     },
     "metadata": {
      "needs_background": "light"
     },
     "output_type": "display_data"
    }
   ],
   "source": [
    "toPlot1.filter(items = [i for i in range(0, 250)]).plot(kind='line', logy=True)"
   ]
  },
  {
   "cell_type": "markdown",
   "metadata": {
    "colab_type": "text",
    "id": "PzPsrj36KJ7n"
   },
   "source": [
    "2. Визуализируйте распределение количество-предложений / текст внутри каждого класса."
   ]
  },
  {
   "cell_type": "code",
   "execution_count": 105,
   "metadata": {
    "colab": {},
    "colab_type": "code",
    "id": "z7R5719eV2Me"
   },
   "outputs": [
    {
     "data": {
      "text/html": [
       "<div>\n",
       "<style scoped>\n",
       "    .dataframe tbody tr th:only-of-type {\n",
       "        vertical-align: middle;\n",
       "    }\n",
       "\n",
       "    .dataframe tbody tr th {\n",
       "        vertical-align: top;\n",
       "    }\n",
       "\n",
       "    .dataframe thead th {\n",
       "        text-align: right;\n",
       "    }\n",
       "</style>\n",
       "<table border=\"1\" class=\"dataframe\">\n",
       "  <thead>\n",
       "    <tr style=\"text-align: right;\">\n",
       "      <th>label</th>\n",
       "      <th>0</th>\n",
       "      <th>1</th>\n",
       "    </tr>\n",
       "    <tr>\n",
       "      <th>sent_count</th>\n",
       "      <th></th>\n",
       "      <th></th>\n",
       "    </tr>\n",
       "  </thead>\n",
       "  <tbody>\n",
       "    <tr>\n",
       "      <th>1</th>\n",
       "      <td>4733.0</td>\n",
       "      <td>9564.0</td>\n",
       "    </tr>\n",
       "    <tr>\n",
       "      <th>2</th>\n",
       "      <td>3407.0</td>\n",
       "      <td>3983.0</td>\n",
       "    </tr>\n",
       "    <tr>\n",
       "      <th>3</th>\n",
       "      <td>2889.0</td>\n",
       "      <td>2761.0</td>\n",
       "    </tr>\n",
       "    <tr>\n",
       "      <th>4</th>\n",
       "      <td>2413.0</td>\n",
       "      <td>1904.0</td>\n",
       "    </tr>\n",
       "    <tr>\n",
       "      <th>5</th>\n",
       "      <td>2209.0</td>\n",
       "      <td>1379.0</td>\n",
       "    </tr>\n",
       "    <tr>\n",
       "      <th>...</th>\n",
       "      <td>...</td>\n",
       "      <td>...</td>\n",
       "    </tr>\n",
       "    <tr>\n",
       "      <th>258</th>\n",
       "      <td>1.0</td>\n",
       "      <td>NaN</td>\n",
       "    </tr>\n",
       "    <tr>\n",
       "      <th>319</th>\n",
       "      <td>NaN</td>\n",
       "      <td>1.0</td>\n",
       "    </tr>\n",
       "    <tr>\n",
       "      <th>416</th>\n",
       "      <td>1.0</td>\n",
       "      <td>NaN</td>\n",
       "    </tr>\n",
       "    <tr>\n",
       "      <th>685</th>\n",
       "      <td>1.0</td>\n",
       "      <td>NaN</td>\n",
       "    </tr>\n",
       "    <tr>\n",
       "      <th>686</th>\n",
       "      <td>1.0</td>\n",
       "      <td>NaN</td>\n",
       "    </tr>\n",
       "  </tbody>\n",
       "</table>\n",
       "<p>195 rows × 2 columns</p>\n",
       "</div>"
      ],
      "text/plain": [
       "label            0       1\n",
       "sent_count                \n",
       "1           4733.0  9564.0\n",
       "2           3407.0  3983.0\n",
       "3           2889.0  2761.0\n",
       "4           2413.0  1904.0\n",
       "5           2209.0  1379.0\n",
       "...            ...     ...\n",
       "258            1.0     NaN\n",
       "319            NaN     1.0\n",
       "416            1.0     NaN\n",
       "685            1.0     NaN\n",
       "686            1.0     NaN\n",
       "\n",
       "[195 rows x 2 columns]"
      ]
     },
     "execution_count": 105,
     "metadata": {},
     "output_type": "execute_result"
    }
   ],
   "source": [
    "toPlot2 = df.groupby(['label'])['sent_count'].value_counts()\n",
    "\n",
    "pivot_count = df.pivot_table(values=\"text\", index=\"sent_count\", columns=\"label\", aggfunc=pd.Series.nunique)\n",
    "pivot_count"
   ]
  },
  {
   "cell_type": "code",
   "execution_count": 109,
   "metadata": {},
   "outputs": [
    {
     "data": {
      "text/plain": [
       "<matplotlib.axes._subplots.AxesSubplot at 0x27bbe575188>"
      ]
     },
     "execution_count": 109,
     "metadata": {},
     "output_type": "execute_result"
    },
    {
     "data": {
      "image/png": "[encoded data removed]",
      "text/plain": [
       "<Figure size 432x288 with 1 Axes>"
      ]
     },
     "metadata": {
      "needs_background": "light"
     },
     "output_type": "display_data"
    }
   ],
   "source": [
    "pivot_count.plot(kind='line', logy=True)"
   ]
  },
  {
   "cell_type": "code",
   "execution_count": 115,
   "metadata": {},
   "outputs": [
    {
     "data": {
      "text/plain": [
       "<matplotlib.axes._subplots.AxesSubplot at 0x27bc0d50d48>"
      ]
     },
     "execution_count": 115,
     "metadata": {},
     "output_type": "execute_result"
    },
    {
     "data": {
      "image/png": "[encoded data removed]",
      "text/plain": [
       "<Figure size 432x288 with 1 Axes>"
      ]
     },
     "metadata": {
      "needs_background": "light"
     },
     "output_type": "display_data"
    }
   ],
   "source": [
    "pivot_count[pivot_count.index <= 258].plot(kind='line', logy=True)"
   ]
  },
  {
   "cell_type": "markdown",
   "metadata": {
    "colab_type": "text",
    "id": "5zGMiWUBQKRi"
   },
   "source": [
    "3. Верно ли, что количество предложений в тексте коррелирует с возрастом автора в подвыборке от 16 до 32 лет включительно? Если да, какая это корреляция – положительная или отрицательная? Визуализируйте матрицу корреляции."
   ]
  },
  {
   "cell_type": "code",
   "execution_count": 120,
   "metadata": {
    "colab": {},
    "colab_type": "code",
    "id": "qAeNmcoqQi5x"
   },
   "outputs": [
    {
     "data": {
      "text/plain": [
       "0.03983124811646045"
      ]
     },
     "execution_count": 120,
     "metadata": {},
     "output_type": "execute_result"
    }
   ],
   "source": [
    "data = df[(df.age < 33) & (df.age >= 16)]\n",
    "data['age'].corr(data['sent_count'])"
   ]
  },
  {
   "cell_type": "code",
   "execution_count": 123,
   "metadata": {},
   "outputs": [
    {
     "data": {
      "text/plain": [
       "<matplotlib.axes._subplots.AxesSubplot at 0x27bc46af0c8>"
      ]
     },
     "execution_count": 123,
     "metadata": {},
     "output_type": "execute_result"
    },
    {
     "data": {
      "image/png": "[encoded data removed]",
      "text/plain": [
       "<Figure size 432x288 with 1 Axes>"
      ]
     },
     "metadata": {
      "needs_background": "light"
     },
     "output_type": "display_data"
    }
   ],
   "source": [
    "dc = data[['age', 'sent_count']].corr()\n",
    "dc.plot(kind='bar')"
   ]
  },
  {
   "cell_type": "code",
   "execution_count": 124,
   "metadata": {},
   "outputs": [
    {
     "name": "stderr",
     "output_type": "stream",
     "text": [
      "INFO:numexpr.utils:NumExpr defaulting to 4 threads.\n"
     ]
    },
    {
     "data": {
      "image/png": "[encoded data removed]",
      "text/plain": [
       "<Figure size 432x288 with 2 Axes>"
      ]
     },
     "metadata": {
      "needs_background": "light"
     },
     "output_type": "display_data"
    }
   ],
   "source": [
    "import seaborn as sn\n",
    "sn.heatmap(dc, annot=True)\n",
    "plt.show()"
   ]
  },
  {
   "cell_type": "markdown",
   "metadata": {
    "colab_type": "text",
    "id": "nBpo_1O5Ld7H"
   },
   "source": [
    "### Часть 4: Извлечение текстовых признаков (4 балла)"
   ]
  },
  {
   "cell_type": "markdown",
   "metadata": {
    "colab_type": "text",
    "id": "oqZUzenfL2sF"
   },
   "source": [
    "1. Самостоятельно реализуйте функцию для получения посимвольных н-грамм (без использования библиотек)."
   ]
  },
  {
   "cell_type": "code",
   "execution_count": 58,
   "metadata": {
    "colab": {},
    "colab_type": "code",
    "id": "UOOp61e1MCU-"
   },
   "outputs": [],
   "source": [
    "def char_ngrams(text, n=3):\n",
    "    return [text[i:i+n] for i in range(0, len(text)-n+1)]"
   ]
  },
  {
   "cell_type": "code",
   "execution_count": 63,
   "metadata": {
    "colab": {
     "base_uri": "https://localhost:8080/",
     "height": 34
    },
    "colab_type": "code",
    "id": "LctAR2cEMV0s",
    "outputId": "583c32a5-4efd-4686-97e9-b266350c0af5"
   },
   "outputs": [
    {
     "data": {
      "text/plain": [
       "[' гря',\n",
       " 'гряз',\n",
       " 'рязн',\n",
       " 'язну',\n",
       " 'зную',\n",
       " 'ную ',\n",
       " 'ую р',\n",
       " 'ю ра',\n",
       " ' рам',\n",
       " 'раму']"
      ]
     },
     "execution_count": 63,
     "metadata": {},
     "output_type": "execute_result"
    }
   ],
   "source": [
    "# пример работы функции\n",
    "\n",
    "text = \"уставшая мама мыла грязную раму\"\n",
    "\n",
    "char_ngrams(text, n=4)[-10:]"
   ]
  },
  {
   "cell_type": "markdown",
   "metadata": {
    "colab_type": "text",
    "id": "CnPgflCeNsZA"
   },
   "source": [
    "2. Самостоятельно реализуйте функцию для получения пословных н-грамм (без использования библиотек)."
   ]
  },
  {
   "cell_type": "code",
   "execution_count": 64,
   "metadata": {
    "colab": {},
    "colab_type": "code",
    "id": "fX_6RyMFOGL2"
   },
   "outputs": [],
   "source": [
    "def word_ngrams(text, n=3):\n",
    "    tokens = textTokenizer(text)\n",
    "    return char_ngrams(tokens, n)"
   ]
  },
  {
   "cell_type": "code",
   "execution_count": 65,
   "metadata": {
    "colab": {
     "base_uri": "https://localhost:8080/",
     "height": 70
    },
    "colab_type": "code",
    "id": "7b-XHdadOVm5",
    "outputId": "ff2948c6-a5f4-4288-d018-f14b8a8b7666"
   },
   "outputs": [
    {
     "data": {
      "text/plain": [
       "[['уставшая', 'мама', 'мыла'],\n",
       " ['мама', 'мыла', 'грязную'],\n",
       " ['мыла', 'грязную', 'раму']]"
      ]
     },
     "execution_count": 65,
     "metadata": {},
     "output_type": "execute_result"
    }
   ],
   "source": [
    "# пример работы функции\n",
    "\n",
    "word_ngrams(text, n=3)"
   ]
  },
  {
   "cell_type": "code",
   "execution_count": 66,
   "metadata": {
    "colab": {
     "base_uri": "https://localhost:8080/",
     "height": 34
    },
    "colab_type": "code",
    "id": "anLUGeXROekT",
    "outputId": "ed3a30af-d19e-48c5-abe6-4605ef6dcca6"
   },
   "outputs": [
    {
     "data": {
      "text/plain": [
       "[['уставшая', 'мама', 'мыла', 'грязную'], ['мама', 'мыла', 'грязную', 'раму']]"
      ]
     },
     "execution_count": 66,
     "metadata": {},
     "output_type": "execute_result"
    }
   ],
   "source": [
    "word_ngrams(text, n=4)"
   ]
  },
  {
   "cell_type": "markdown",
   "metadata": {
    "colab_type": "text",
    "id": "zU4PJTZVOvcQ"
   },
   "source": [
    "3. Самостоятельно реализуйте функцию для получения н-грамм лемм (без использования библиотек)."
   ]
  },
  {
   "cell_type": "code",
   "execution_count": 67,
   "metadata": {
    "colab": {},
    "colab_type": "code",
    "id": "dgWG3NdLO0JF"
   },
   "outputs": [],
   "source": [
    "def lemma_ngrams(text, n=3):\n",
    "    lemmas = textLemmatizer(text)\n",
    "    return char_ngrams(lemmas, n)"
   ]
  },
  {
   "cell_type": "code",
   "execution_count": 70,
   "metadata": {
    "colab": {
     "base_uri": "https://localhost:8080/",
     "height": 70
    },
    "colab_type": "code",
    "id": "BfER14VDO8I3",
    "outputId": "97d6a053-3376-47e2-9489-ca9fd612140b"
   },
   "outputs": [
    {
     "data": {
      "text/plain": [
       "[['устать', 'мама', 'мыло'],\n",
       " ['мама', 'мыло', 'грязный'],\n",
       " ['мыло', 'грязный', 'рам']]"
      ]
     },
     "execution_count": 70,
     "metadata": {},
     "output_type": "execute_result"
    }
   ],
   "source": [
    "# пример работы функции\n",
    "\n",
    "lemma_ngrams(text, n=3)"
   ]
  },
  {
   "cell_type": "code",
   "execution_count": 71,
   "metadata": {
    "colab": {
     "base_uri": "https://localhost:8080/",
     "height": 52
    },
    "colab_type": "code",
    "id": "k1XmkQ_rO_p1",
    "outputId": "99a26cb6-ca99-427c-ddc4-c901e3f184a1"
   },
   "outputs": [
    {
     "data": {
      "text/plain": [
       "[['устать', 'мама', 'мыло', 'грязный'], ['мама', 'мыло', 'грязный', 'рам']]"
      ]
     },
     "execution_count": 71,
     "metadata": {},
     "output_type": "execute_result"
    }
   ],
   "source": [
    "lemma_ngrams(text, n=4)"
   ]
  },
  {
   "cell_type": "markdown",
   "metadata": {
    "colab_type": "text",
    "id": "LHUo6LdLOblj"
   },
   "source": [
    "4. Самостоятельно реализуйте функцию для получения н-грамм частеречных тегов (без использования библиотек)."
   ]
  },
  {
   "cell_type": "code",
   "execution_count": 72,
   "metadata": {
    "colab": {},
    "colab_type": "code",
    "id": "YlPDRUCcOoCX"
   },
   "outputs": [],
   "source": [
    "def pos_ngrams(text, n=3):\n",
    "    tags = textPOStagger(text)\n",
    "    return char_ngrams(tags, n)"
   ]
  },
  {
   "cell_type": "code",
   "execution_count": 73,
   "metadata": {
    "colab": {
     "base_uri": "https://localhost:8080/",
     "height": 34
    },
    "colab_type": "code",
    "id": "a4kQmEqiPHPv",
    "outputId": "ede469bd-8410-4c03-f361-42887601fc9f"
   },
   "outputs": [
    {
     "data": {
      "text/plain": [
       "[['PRTF', 'NOUN', 'NOUN'], ['NOUN', 'NOUN', 'ADJF'], ['NOUN', 'ADJF', 'NOUN']]"
      ]
     },
     "execution_count": 73,
     "metadata": {},
     "output_type": "execute_result"
    }
   ],
   "source": [
    "# пример работы функции\n",
    "\n",
    "pos_ngrams(text, n=3)"
   ]
  },
  {
   "cell_type": "code",
   "execution_count": 74,
   "metadata": {
    "colab": {
     "base_uri": "https://localhost:8080/",
     "height": 34
    },
    "colab_type": "code",
    "id": "iBh5fRbOPKsn",
    "outputId": "e4fdb66d-2f6e-4558-9072-7536adea29b2"
   },
   "outputs": [
    {
     "data": {
      "text/plain": [
       "[['PRTF', 'NOUN', 'NOUN', 'ADJF'], ['NOUN', 'NOUN', 'ADJF', 'NOUN']]"
      ]
     },
     "execution_count": 74,
     "metadata": {},
     "output_type": "execute_result"
    }
   ],
   "source": [
    "pos_ngrams(text, n=4)"
   ]
  },
  {
   "cell_type": "markdown",
   "metadata": {
    "colab_type": "text",
    "id": "ZnUBQ6hLPNb3"
   },
   "source": [
    "5. Самостоятельно реализуйте функцию для получения частотного словаря частеречных тегов по коллекции документов."
   ]
  },
  {
   "cell_type": "code",
   "execution_count": 75,
   "metadata": {
    "colab": {},
    "colab_type": "code",
    "id": "P69DZahVPctr"
   },
   "outputs": [],
   "source": [
    "def build_pos_dict(corpus):\n",
    "    counterDict = {}\n",
    "    for text in corpus:\n",
    "        tags = textPOStagger(text)\n",
    "        for t in tags:\n",
    "            if t not in counterDict:\n",
    "                counterDict[t] = 1\n",
    "            else:\n",
    "                counterDict[t] += 1\n",
    "    return counterDict"
   ]
  },
  {
   "cell_type": "code",
   "execution_count": 76,
   "metadata": {
    "colab": {
     "base_uri": "https://localhost:8080/",
     "height": 34
    },
    "colab_type": "code",
    "id": "7ZLFo264Pa4b",
    "outputId": "e43a31d5-f4ec-4468-8ad2-c892cfa4c662"
   },
   "outputs": [
    {
     "data": {
      "text/plain": [
       "{'NOUN': 7, 'PRTF': 1, 'ADJF': 2, 'VERB': 1}"
      ]
     },
     "execution_count": 76,
     "metadata": {},
     "output_type": "execute_result"
    }
   ],
   "source": [
    "# пример работы функции\n",
    "\n",
    "corpus = [\n",
    "    \"мама мыла уставшую раму\",\n",
    "    \"высшая школа экономики\",\n",
    "    \"компьютерная лингвистика\",\n",
    "    \"осень наступила\"\n",
    "]\n",
    "\n",
    "build_pos_dict(corpus)"
   ]
  },
  {
   "cell_type": "markdown",
   "metadata": {
    "colab_type": "text",
    "id": "yb_mcJ8sSr3-"
   },
   "source": [
    "6. Постройте частотный словарь лемм по текстам внутри каждого класса. Найдите топ-15 лемм для текстов каждого класса. Есть ли между этими списками пересечение? Если да, сколько лемм пересекается?"
   ]
  },
  {
   "cell_type": "code",
   "execution_count": 10,
   "metadata": {
    "colab": {},
    "colab_type": "code",
    "id": "nP6_MZbHTLtf"
   },
   "outputs": [],
   "source": [
    "subset = pd.concat([df[df[\"label\"] == 0].sample(250), df[df[\"label\"] == 1].sample(250)])\n",
    "\n",
    "label0dict = dict()\n",
    "label1dict = dict()"
   ]
  },
  {
   "cell_type": "code",
   "execution_count": 46,
   "metadata": {},
   "outputs": [],
   "source": [
    "commonDict = {\n",
    "    0: label0dict,\n",
    "    1: label1dict\n",
    "}\n",
    "\n",
    "for _, row in subset.iterrows():\n",
    "    lemmas = textLemmatizer(row.text)\n",
    "    for word in lemmas:\n",
    "        if word in commonDict[row.label]:\n",
    "            commonDict[row.label][word] += 1\n",
    "        else:\n",
    "            commonDict[row.label][word] = 1"
   ]
  },
  {
   "cell_type": "code",
   "execution_count": 47,
   "metadata": {},
   "outputs": [
    {
     "name": "stdout",
     "output_type": "stream",
     "text": [
      "0\n",
      "{'год': 1851, 'который': 919, 'это': 743, 'свой': 702, 'наш': 674, 'https': 655, 'апрель': 652, 'forms': 640, 'один': 627, 'проект': 621, 'день': 600, 'gle': 585, 'также': 571, 'область': 537, 'россия': 520}\n",
      "1\n",
      "{'это': 984, 'год': 764, 'жить': 728, 'мочь': 723, 'жизнь': 720, 'хотеть': 636, 'весь': 607, 'очень': 568, 'мой': 549, 'просто': 500, 'человек': 496, 'знать': 452, 'который': 428, 'свой': 400, '..': 396}\n"
     ]
    }
   ],
   "source": [
    "for label in commonDict:\n",
    "    print(label)\n",
    "    print({k: v for k, v in sorted(commonDict[label].items(), key=lambda item: item[1], reverse=True)[:15]})"
   ]
  },
  {
   "cell_type": "markdown",
   "metadata": {},
   "source": [
    "Пересекаются: \"это\", \"год\", \"который\"\n",
    "Для группы 1 часты ожидаемые \"жить\", \"жизнь\", \"хотеть\", \"мочь\"\n",
    "\n",
    "(еще УДИВИТЕЛЬНО, но \"Россия\" встречается очень часто в позитивных отзывах)"
   ]
  },
  {
   "cell_type": "markdown",
   "metadata": {
    "colab_type": "text",
    "id": "AqfZJ4csRSxZ"
   },
   "source": [
    "7. Какие текстовые признаки могли бы быть полезными для решения задачи классификации на этих данных? Приведите примеры и перечислите ресурсы, которые вы бы использовали для конструирования этих признаков."
   ]
  },
  {
   "cell_type": "code",
   "execution_count": null,
   "metadata": {
    "colab": {},
    "colab_type": "code",
    "id": "4T5Rdx1HRjWX"
   },
   "outputs": [],
   "source": [
    "# your answer text here"
   ]
  }
 ],
 "metadata": {
  "colab": {
   "collapsed_sections": [],
   "name": "hw_01.ipynb",
   "provenance": []
  },
  "kernelspec": {
   "display_name": "Python 3",
   "language": "python",
   "name": "python3"
  },
  "language_info": {
   "codemirror_mode": {
    "name": "ipython",
    "version": 3
   },
   "file_extension": ".py",
   "mimetype": "text/x-python",
   "name": "python",
   "nbconvert_exporter": "python",
   "pygments_lexer": "ipython3",
   "version": "3.7.6"
  }
 },
 "nbformat": 4,
 "nbformat_minor": 1
}
